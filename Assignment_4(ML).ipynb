{
 "cells": [
  {
   "cell_type": "markdown",
   "id": "e0aa970d",
   "metadata": {},
   "source": [
    "#### 1. What are the key tasks involved in getting ready to work with machine learning modeling?"
   ]
  },
  {
   "cell_type": "markdown",
   "id": "d41b3e94",
   "metadata": {},
   "source": [
    "Getting ready to work with machine learning modeling involves several key tasks:\n",
    "\n",
    "Data Collection: Collecting relevant and reliable data is crucial for machine learning modeling. \n",
    "    \n",
    "Data Preprocessing: Preprocessing the data involves cleaning, transforming, and preparing it for analysis. \n",
    "\n",
    "Exploratory Data Analysis (EDA): EDA helps in understanding the data, identifying patterns, and gaining insights. \n",
    "\n",
    "Feature Engineering: Feature engineering involves creating new features or transforming existing ones to enhance the predictive power of the model. \n",
    "\n",
    "Train-Test Split: Splitting the data into training and testing sets is essential to evaluate the model's performance.\n",
    "\n",
    "Model Selection: Choosing the appropriate machine learning algorithm or model is critical. \n",
    "\n",
    "Model Training and Evaluation: The selected model is trained using the training data. \n",
    "    "
   ]
  },
  {
   "cell_type": "markdown",
   "id": "d9e94cc5",
   "metadata": {},
   "source": [
    "#### 2. What are the different forms of data used in machine learning? Give a specific example for each of them."
   ]
  },
  {
   "cell_type": "markdown",
   "id": "549f0552",
   "metadata": {},
   "source": [
    "1.Numerical Data: Numerical data consists of numeric values and is one of the most common types used in machine learning. Examples include:House Prices: Predicting the price of a house based on features such as square footage, number of bedrooms, and location,Stock Market Data.\n",
    "\n",
    "2.Categorical Data: Categorical data represents discrete and distinct categories or labels. Examples include:\n",
    "\n",
    "3.Customer Segmentation: Grouping customers based on demographic attributes such as age, gender, and location.\n",
    "\n",
    "Sentiment Analysis: Classifying customer reviews as positive, negative, or neutral based on their sentiment.\n",
    "\n",
    "4.Textual Data: Textual data consists of unstructured text information. Examples include:Document Classification: Categorizing news articles into topics such as sports, politics, or entertainment. Spam Detection: Identifying emails as spam or non-spam based on the content and language used.\n",
    "\n",
    "5.Image Data: Image data represents visual information in the form of pixels. Examples include:\n",
    "\n",
    "Object Recognition: Identifying and classifying objects in images, such as recognizing different animal species in wildlife photos.\n",
    "Facial Emotion Recognition: Detecting and classifying facial expressions, such as determining whether a person is happy, sad, or angry.\n",
    "\n",
    "6.Time Series Data: Time series data is recorded over regular time intervals. Examples include:\n",
    "\n",
    "Demand Forecasting: Predicting future sales or demand based on historical sales data.\n",
    "\n",
    "Weather Prediction: Forecasting temperature, humidity, and precipitation patterns based on historical weather data.\n",
    "\n",
    "7.Geospatial Data: Geospatial data represents information related to geographic locations. Examples include:\n",
    "\n",
    "Route Optimization: Finding the optimal path for delivery trucks based on locations, traffic conditions, and time constraints.\n",
    "Urban Planning: Analyzing population density and infrastructure to optimize city planning and resource allocation.\n",
    "These are just a few examples of the different forms of data used in machine learning. Depending on the problem at hand, one or more types of data may be utilized, and appropriate techniques are applied to extract insights and build predictive models.\n"
   ]
  },
  {
   "cell_type": "markdown",
   "id": "5225c9bb",
   "metadata": {},
   "source": [
    "#### 3. Distinguish:1. Numeric vs. categorical attributes 2. Feature selection vs. dimensionality reduction"
   ]
  },
  {
   "cell_type": "markdown",
   "id": "a87ee274",
   "metadata": {},
   "source": [
    "Numeric vs. categorical attributes:\n",
    "Numeric attributes: Numeric attributes are variables that represent quantitative values and can take on any numerical value within a range. Examples include age, height, temperature, and income. Numeric attributes can be further classified into discrete (e.g., number of siblings) or continuous (e.g., weight).\n",
    "\n",
    "Categorical attributes: Categorical attributes are variables that represent qualitative or categorical values and can take on a limited number of distinct categories or labels. Examples include gender (male or female), color (red, blue, green), and education level (high school, bachelor's degree, master's degree). Categorical attributes are often represented as text or codes.\n",
    "\n",
    "Feature selection vs. dimensionality reduction:\n",
    "Feature selection: Feature selection refers to the process of selecting a subset of relevant features or variables from the original set of features. The goal is to choose the most informative and discriminative features that contribute significantly to the predictive power of the model. \n",
    "\n",
    "Dimensionality reduction: Dimensionality reduction, on the other hand, aims to reduce the number of features or variables in a dataset while preserving the most important information. It addresses the issue of high-dimensional data, where the number of features is large compared to the number of samples. Principal Component Analysis (PCA) and t-SNE (t-Distributed Stochastic Neighbor Embedding) are popular dimensionality reduction techniques.\n",
    "\n",
    "While both feature selection and dimensionality reduction aim to reduce the number of features, they differ in their approach. Feature selection focuses on choosing a subset of relevant features from the original set, while dimensionality reduction aims to transform the data into a lower-dimensional space while preserving the important characteristics."
   ]
  },
  {
   "cell_type": "markdown",
   "id": "6b124962",
   "metadata": {},
   "source": [
    "#### 4. Make quick notes on any two of the following:1. The histogram 2. Use a scatter plot.3.PCA (Personal Computer Aid)"
   ]
  },
  {
   "cell_type": "markdown",
   "id": "59202242",
   "metadata": {},
   "source": [
    "The histogram: A histogram is a graphical representation of the distribution of a dataset. It displays the frequencies or counts of data points falling into different intervals or bins. The x-axis represents the variable being measured, and the y-axis represents the frequency or count of data points in each bin.\n",
    "Histograms are commonly used to visualize the distribution of numerical data. They provide insights into the shape, central tendency, and spread of the data. \n",
    "\n",
    "Scatter plot:A scatter plot is a type of visualization that represents the relationship between two numerical variables. It uses a set of points on a two-dimensional plane, where each point represents the values of the two variables.\n",
    "The x-axis typically represents the independent variable, while the y-axis represents the dependent variable. Each point on the scatter plot represents a single data instance with its corresponding values on both variables.\n",
    "Scatter plots are useful for identifying patterns, trends, or relationships between variables. They can reveal the presence of a correlation, whether it is positive (points cluster in an upward direction), negative (points cluster in a downward direction), or no correlation (points are scattered randomly)."
   ]
  },
  {
   "cell_type": "markdown",
   "id": "093fed21",
   "metadata": {},
   "source": [
    "#### 5. Why is it necessary to investigate data? Is there a discrepancy in how qualitative and quantitative data are explored?"
   ]
  },
  {
   "cell_type": "markdown",
   "id": "4cf6daa4",
   "metadata": {},
   "source": [
    "If your data set is messy, building models will not help you to solve your problem. What will happen is Garbage In, Garbage Out. In order to build a powerful machine learning algorithm. We need to explore and understand our data set before we define a predictive task and solve it."
   ]
  },
  {
   "cell_type": "markdown",
   "id": "04ca2b29",
   "metadata": {},
   "source": [
    "#### 6. What are the various histogram shapes? What exactly are ‘bins&#39;?"
   ]
  },
  {
   "cell_type": "markdown",
   "id": "deb8a390",
   "metadata": {},
   "source": [
    "The different types of a Histogram are:\n",
    "\n",
    "Uniform Histogram,\n",
    "Symmetric Histogram,\n",
    "Bimodal Histogram,\n",
    "Probability Histogram.\n",
    "\n",
    "The bin in a histogram is the choice of unit and spacing on the X-axis. All the data in a probability distribution represented visually by a histogram is filled into the corresponding bins. The height of each bin is a measurement of the frequency with which data appears inside the range of that bin in the distribution."
   ]
  },
  {
   "cell_type": "markdown",
   "id": "55c8670d",
   "metadata": {},
   "source": [
    "#### 7. How do we deal with data outliers?"
   ]
  },
  {
   "cell_type": "markdown",
   "id": "43c1c323",
   "metadata": {},
   "source": [
    "Identify outliers: The first step is to identify and locate the outliers in the data. This can be done visually using scatter plots, box plots, or histograms, or through statistical methods such as z-scores, interquartile range (IQR), or the Tukey method.\n",
    "\n",
    "Understand the nature of outliers: It's essential to investigate and understand the reasons behind the outliers.\n",
    "\n",
    "Remove outliers: In some cases, if the outliers are identified as errors or noise, they can be removed from the dataset.\n",
    "\n",
    "Transform data: Another approach is to transform the data to make it more resistant to outliers."
   ]
  },
  {
   "cell_type": "markdown",
   "id": "0f49361f",
   "metadata": {},
   "source": [
    "#### 8. What are the various central inclination measures? Why does mean vary too much from median in certain data sets?"
   ]
  },
  {
   "cell_type": "markdown",
   "id": "ba3a1d69",
   "metadata": {},
   "source": [
    "Mean, Median and Mode are Central Inclination Measures. Mean varies more than Median due to presence of outliers, as mean is averaging all points while median in like finding a middle number."
   ]
  },
  {
   "cell_type": "markdown",
   "id": "0084db42",
   "metadata": {},
   "source": [
    "#### 9. Describe how a scatter plot can be used to investigate bivariate relationships. Is it possible to find outliers using a scatter plot?"
   ]
  },
  {
   "cell_type": "markdown",
   "id": "e42291f2",
   "metadata": {},
   "source": [
    "A Scatter Plot (aka scatter chart, scatter graph) uses dots to represent values for two different numeric variables. The position of each dot on the horizontal and vertical axis indicates values for an individual data point. So this visualization gives us the idea of bivariate relationship.\n",
    "\n",
    "Scatter plot can also help finding outliers as outliers can be visualized at farther distance than regular data."
   ]
  },
  {
   "cell_type": "markdown",
   "id": "f5893543",
   "metadata": {},
   "source": [
    "#### 10. Describe how cross-tabs can be used to figure out how two variables are related."
   ]
  },
  {
   "cell_type": "markdown",
   "id": "71294d47",
   "metadata": {},
   "source": [
    "Cross-tabulation, or cross-tabs, is a statistical technique used to analyze the relationship between two categorical variables. It provides a way to summarize and compare the distribution of one variable across different categories of another variable.\n",
    "\n",
    "identify the variables: Determine which two categorical variables you want to analyze and understand their categories. For example, you might want to analyze the relationship between gender (Male/Female) and smoking status (Smoker/Non-Smoker).\n",
    "\n",
    "Create a contingency table: Construct a contingency table or a cross-tabulation table by counting the number of observations that fall into each combination of categories. The rows of the table represent one variable (e.g., gender), and the columns represent the other variable (e.g., smoking status).\n",
    "\n",
    "Analyze the distribution: Examine the distribution of the data in the contingency table to understand the relationship between the variables.\n"
   ]
  },
  {
   "cell_type": "code",
   "execution_count": null,
   "id": "9ccccb0d",
   "metadata": {},
   "outputs": [],
   "source": []
  }
 ],
 "metadata": {
  "kernelspec": {
   "display_name": "Python 3 (ipykernel)",
   "language": "python",
   "name": "python3"
  },
  "language_info": {
   "codemirror_mode": {
    "name": "ipython",
    "version": 3
   },
   "file_extension": ".py",
   "mimetype": "text/x-python",
   "name": "python",
   "nbconvert_exporter": "python",
   "pygments_lexer": "ipython3",
   "version": "3.9.12"
  }
 },
 "nbformat": 4,
 "nbformat_minor": 5
}
