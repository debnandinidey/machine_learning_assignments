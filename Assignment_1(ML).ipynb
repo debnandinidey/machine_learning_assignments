{
 "cells": [
  {
   "cell_type": "markdown",
   "id": "52b0d7a1",
   "metadata": {},
   "source": [
    "1. What does one mean by the term &quot;machine learning&quot;?"
   ]
  },
  {
   "cell_type": "markdown",
   "id": "75d7e71a",
   "metadata": {},
   "source": [
    "Machine learning is an application of AI that enables systems to learn and improve from experience without being explicitly programmed. Machine learning focuses on developing computer programs that can access data and use it to learn for themselves.The machine learning process begins with observations or data, such as examples, direct experience or instruction. It looks for patterns in data so it can later make inferences based on the examples provided. The primary aim of ML is to allow computers to learn autonomously without human intervention or assistance and adjust actions accordingly."
   ]
  },
  {
   "cell_type": "markdown",
   "id": "e62d4b5b",
   "metadata": {},
   "source": [
    "2.Can you think of 4 distinct types of issues where it shines?"
   ]
  },
  {
   "cell_type": "markdown",
   "id": "fcf6d131",
   "metadata": {},
   "source": [
    "Image Recognition: Image recognition is one of the most common applications of machine learning. It is used to identify objects, persons, places, digital images, etc. The popular use case of image recognition and face detection is Automatic friend tagging suggestion.\n",
    "\n",
    "Speech Recognition: While using Google, we get an option of Search by voice, it comes under speech recognition, and it's a popular application of Machine Learning. Speech recognition is a process of converting voice instructions into text, and it is also known as Speech to text, or Computer based speech recognition At present, machine learning algorithms are widely used by various applications of speech recognition. Google assistant, Siri, Cortana, and Alexa are using speech recognition technology to follow the voice instructions.\n",
    "\n",
    "Traffic prediction: It predicts the traffic conditions such as whether traffic is cleared, slow-moving, or heavily congested with the help of two ways: Real Time location of the vehicle form Google Map app and sensors Average time has taken on past days at the same time.\n",
    "\n",
    "Product recommendations: Machine learning is widely used by various e-commerce and entertainment companies such as Amazon, Netflix, etc., for product recommendation to the user."
   ]
  },
  {
   "cell_type": "markdown",
   "id": "18409b3c",
   "metadata": {},
   "source": [
    "3.What is a labeled training set, and how does it work?"
   ]
  },
  {
   "cell_type": "markdown",
   "id": "bc07b4f5",
   "metadata": {},
   "source": [
    "A labeled training set is a collection of data used in supervised machine learning algorithms. It consists of input data (features) and corresponding output labels (target values) that serve as the ground truth or reference for the learning algorithm. these datas are used to train the model."
   ]
  },
  {
   "cell_type": "markdown",
   "id": "965b3d67",
   "metadata": {},
   "source": [
    "4.What are the two most important tasks that are supervised?"
   ]
  },
  {
   "cell_type": "markdown",
   "id": "81c3b993",
   "metadata": {},
   "source": [
    "classification and regression are the two most important tasks that are supervised."
   ]
  },
  {
   "cell_type": "markdown",
   "id": "72a8af5c",
   "metadata": {},
   "source": [
    "5.Can you think of four examples of unsupervised tasks?"
   ]
  },
  {
   "cell_type": "markdown",
   "id": "41c556e1",
   "metadata": {},
   "source": [
    "Unsupervised Tasks includes Clustering, Visualization, Dimensionality Reduction, and Association Rule Learning."
   ]
  },
  {
   "cell_type": "markdown",
   "id": "4de371ba",
   "metadata": {},
   "source": [
    "6.State the machine learning model that would be best to make a robot walk through various\n",
    "unfamiliar terrains?"
   ]
  },
  {
   "cell_type": "markdown",
   "id": "566c8293",
   "metadata": {},
   "source": [
    "To make a robot walk through various unfamiliar terrains, a Reinforcement Learning (RL) model would be best suited. Reinforcement Learning is a type of machine learning where an agent learns to interact with an environment and make sequential decisions in order to maximize a cumulative reward"
   ]
  },
  {
   "cell_type": "markdown",
   "id": "d79d34e0",
   "metadata": {},
   "source": [
    "7.Which algorithm will you use to divide your customers into different groups?"
   ]
  },
  {
   "cell_type": "markdown",
   "id": "ae83f999",
   "metadata": {},
   "source": [
    "To divide customers into different groups, a commonly used algorithm is K-means clustering. K-means clustering is an unsupervised learning algorithm that aims to partition a dataset into K distinct clusters based on similarity or proximity of data points."
   ]
  },
  {
   "cell_type": "markdown",
   "id": "b491a2b2",
   "metadata": {},
   "source": [
    "8.Will you consider the problem of spam detection to be a supervised or unsupervised learning\n",
    "problem?"
   ]
  },
  {
   "cell_type": "markdown",
   "id": "0c502195",
   "metadata": {},
   "source": [
    "spam detection is supervised learning problem."
   ]
  },
  {
   "cell_type": "markdown",
   "id": "e22d8c90",
   "metadata": {},
   "source": [
    "9.What is the concept of an online learning system?"
   ]
  },
  {
   "cell_type": "markdown",
   "id": "7013c863",
   "metadata": {},
   "source": [
    "An online learning system, also known as incremental or streaming learning, is a machine learning approach where the model is updated continuously as new data becomes available. In contrast to traditional batch learning, where the model is trained on a fixed dataset and then applied to new data, online learning allows the model to learn from and adapt to incoming data in real-time."
   ]
  },
  {
   "cell_type": "markdown",
   "id": "f19311d2",
   "metadata": {},
   "source": [
    "10.What is out-of-core learning, and how does it differ from core learning?"
   ]
  },
  {
   "cell_type": "markdown",
   "id": "64768017",
   "metadata": {},
   "source": [
    "Out-of-core learning is a method used in machine learning to train models on datasets that are too large to fit into memory. Instead of loading the entire dataset at once, the data is processed in smaller batches or chunks. This approach minimizes memory usage and allows for sequential learning on the entire dataset. It is commonly used for handling big data and enables training models on large-scale datasets that exceed memory capacity."
   ]
  },
  {
   "cell_type": "markdown",
   "id": "acc4f837",
   "metadata": {},
   "source": [
    "11.What kind of learning algorithm makes predictions using a similarity measure?"
   ]
  },
  {
   "cell_type": "markdown",
   "id": "96613ff2",
   "metadata": {},
   "source": [
    "The learning algorithm that makes predictions using a similarity measure is called the instance-based or lazy learning algorithm. This algorithm compares new instances with instances in the training dataset based on their similarity or distance measures, such as Euclidean distance or cosine similarity. It finds the most similar instances and uses their known labels or values to make predictions for the new instance. Examples of instance-based learning algorithms include k-nearest neighbors (KNN) and locally weighted regression (LWR)."
   ]
  },
  {
   "cell_type": "markdown",
   "id": "d083d338",
   "metadata": {},
   "source": [
    "12.What&#39;s the difference between a model parameter and a hyperparameter in a learning\n",
    "algorithm?"
   ]
  },
  {
   "cell_type": "markdown",
   "id": "edeea96f",
   "metadata": {},
   "source": [
    "Model parameter determines how a model will predict given a new instance. Model usually has more than one parameter (i.e. slope of a linear model). Hyperparameter is a parameter for the learning algorithm, not of a model."
   ]
  },
  {
   "cell_type": "markdown",
   "id": "9d479582",
   "metadata": {},
   "source": [
    "13.What are the criteria that model-based learning algorithms look for? What is the most popular\n",
    "method they use to achieve success? What method do they use to make predictions?"
   ]
  },
  {
   "cell_type": "markdown",
   "id": "239ef1b5",
   "metadata": {},
   "source": [
    "Model-based learning algorithms look for patterns and relationships in the training data to build a predictive model. \n",
    "\n",
    "The most popular method used by model-based learning algorithms is statistical inference, which involves estimating the parameters of a statistical model based on the training data.\n",
    "To make predictions, model-based learning algorithms utilize the learned model. They apply the model to new instances or data points to generate predictions or estimate the target variable. The specific method used for prediction depends on the type of model being employed. "
   ]
  },
  {
   "cell_type": "markdown",
   "id": "978ddc1f",
   "metadata": {},
   "source": [
    "14.Can you name four of the most important Machine Learning challenges?"
   ]
  },
  {
   "cell_type": "markdown",
   "id": "d5ed8971",
   "metadata": {},
   "source": [
    "Data quality and quantity: Machine learning algorithms heavily rely on the quality and quantity of training data. Ensuring that the data is accurate, representative, and sufficient can be a challenge, especially when dealing with noisy or incomplete data.\n",
    "\n",
    "Overfitting and underfitting: Finding the right balance between overfitting and underfitting is crucial. \n",
    "\n",
    "Feature selection and dimensionality: Choosing the right set of features from the available data is critical for building effective models. \n",
    "\n",
    "Interpretability and explainability: Machine learning models can often be seen as black boxes, making it difficult to understand how and why they make certain predictions."
   ]
  },
  {
   "cell_type": "markdown",
   "id": "433c83bb",
   "metadata": {},
   "source": [
    "15.What happens if the model performs well on the training data but fails to generalize the results\n",
    "to new situations? Can you think of three different options?"
   ]
  },
  {
   "cell_type": "markdown",
   "id": "991099d6",
   "metadata": {},
   "source": [
    "if a model performs well on training data but fails to generalize the result to new situation this can lead to overfitting problem.\n",
    "\n",
    "Get more data\n",
    "\n",
    "Implement a simpler model\n",
    "\n",
    "Eliminate outliers or noise from the existing data set."
   ]
  },
  {
   "cell_type": "markdown",
   "id": "fb1e2100",
   "metadata": {},
   "source": [
    "16.What exactly is a test set, and why would you need one?"
   ]
  },
  {
   "cell_type": "markdown",
   "id": "d777fdaf",
   "metadata": {},
   "source": [
    "Test set is a set to test your model (fit using training data) to see how it performs.Test set is necessary to determine how good (or bad) a model performs."
   ]
  },
  {
   "cell_type": "markdown",
   "id": "ce1a5e02",
   "metadata": {},
   "source": [
    "17.What is a validation set&#39;s purpose?"
   ]
  },
  {
   "cell_type": "markdown",
   "id": "124650a3",
   "metadata": {},
   "source": [
    "The purpose of a validation set in machine learning is to assess the performance of a trained model on unseen data and make adjustments to improve its generalization ability. The validation set acts as an independent dataset that is not used during the training process but is used to evaluate the model's performance."
   ]
  },
  {
   "cell_type": "markdown",
   "id": "d7dbf9ed",
   "metadata": {},
   "source": [
    "18.What precisely is the train-dev kit, when will you need it, how do you put it to use?"
   ]
  },
  {
   "cell_type": "markdown",
   "id": "e3b913b0",
   "metadata": {},
   "source": [
    "The \"train-dev\" set, also known as the training-development set, is a subset of the training data used in machine learning. It is primarily used for model development, tuning, and performance evaluation during the training phase."
   ]
  },
  {
   "cell_type": "markdown",
   "id": "1351121c",
   "metadata": {},
   "source": [
    "19.What could go wrong if you use the test set to tune hyperparameters?"
   ]
  },
  {
   "cell_type": "markdown",
   "id": "c104aa90",
   "metadata": {},
   "source": [
    "using the test set to tune hyperparameters can lead to overfitting, optimistic evaluation, leakage of information, and a lack of unbiased evaluation. To avoid these issues, keep the test set separate and use a dedicated validation set or train-dev set for hyperparameter tuning."
   ]
  },
  {
   "cell_type": "code",
   "execution_count": null,
   "id": "8d4ae79e",
   "metadata": {},
   "outputs": [],
   "source": []
  }
 ],
 "metadata": {
  "kernelspec": {
   "display_name": "Python 3 (ipykernel)",
   "language": "python",
   "name": "python3"
  },
  "language_info": {
   "codemirror_mode": {
    "name": "ipython",
    "version": 3
   },
   "file_extension": ".py",
   "mimetype": "text/x-python",
   "name": "python",
   "nbconvert_exporter": "python",
   "pygments_lexer": "ipython3",
   "version": "3.9.12"
  }
 },
 "nbformat": 4,
 "nbformat_minor": 5
}
