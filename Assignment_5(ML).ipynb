{
 "cells": [
  {
   "cell_type": "markdown",
   "id": "b4a9e567",
   "metadata": {},
   "source": [
    "#### 1. What are the key tasks that machine learning entails? What does data pre-processing imply?"
   ]
  },
  {
   "cell_type": "markdown",
   "id": "22c2ea31",
   "metadata": {},
   "source": [
    "Ans: There are Five core tasks in the common ML workflow:\n",
    "\n",
    "Get Data: The first step in the Machine Learning process is getting data.\n",
    "\n",
    "Cleaning, Preparing & Manipulating Data: Real-world data often has unorganized, missing, or noisy elements.\n",
    "\n",
    "Train Model\n",
    "\n",
    "Testing Model.\n",
    "\n",
    "Improving model.\n",
    "\n",
    "Data preprocessing involves transforming raw data to well-formed data sets so that data mining analytics can be applied.\n",
    "\n",
    "Preprocessing involves both data validation and data imputation\n",
    "\n",
    "The Goal of Data Validation is to assess whether the data in question is both complete and accurate.\n",
    "\n",
    "The Goal of Data Imputation is to correct errors and input missing values, Either Manually or Automatically through business process automation (BPA) programming."
   ]
  },
  {
   "cell_type": "markdown",
   "id": "fe7a1fc7",
   "metadata": {},
   "source": [
    "#### 2. Describe quantitative and qualitative data in depth. Make a distinction between the two."
   ]
  },
  {
   "cell_type": "markdown",
   "id": "134ad958",
   "metadata": {},
   "source": [
    " The Data Type Is Broadly Classified Into:\n",
    "\n",
    "Quantitative\n",
    "\n",
    "Qualitative\n",
    "\n",
    "Quantitative Data Type: This Type Of Data Type Consists Of Numerical Values. Anything Which Is Measured By Numbers. E.G., Profit, Quantity Sold, Height, Weight, Temperature, Etc. This Is Again Of Two Types\n",
    "\n",
    "Discrete Data Type: – The Numeric Data Which Have Discrete Values Or Whole Numbers. This Type Of Variable Value If Expressed In Decimal Format Will Have No Proper Meaning. Their Values Can Be Counted. E.G.: – No. Of Cars You Have, No. Of Marbles In Containers, Students In A Class, Etc.\n",
    "Continuous Data Type: – The Numerical Measures Which Can Take The Value Within A Certain Range. This Type Of Variable Value If Expressed In Decimal Format Has True Meaning. Their Values Can Not Be Counted But Measured. The Value Can Be Infinite E.G.: Height, Weight, Time, Area, Distance, Measurement Of Rainfall, Etc.\n",
    "Qualitative Data Type: These Are The Data Types That Cannot Be Expressed In Numbers. This Describes Categories Or Groups And Is Hence Known As The Categorical Data Type. This Can Be Divided Into:-\n",
    "\n",
    "Structured Data: This Type Of Data Is Either Number Or Words. This Can Take Numerical Values But Mathematical Operations Cannot Be Performed On It. This Type Of Data Is Expressed In Tabular Format. E.G.) Sunny=1, Cloudy=2, Windy=3 Or Binary Form Data Like 0 Or1, Good Or Bad, Etc.\n",
    "Unstructured Data: This Type Of Data Does Not Have The Proper Format And Therefore Known As Unstructured Data.This Comprises Textual Data, Sounds, Images, Videos, Etc."
   ]
  },
  {
   "cell_type": "markdown",
   "id": "7b19f5b9",
   "metadata": {},
   "source": [
    "#### 3. Create a basic data collection that includes some sample records. Have at least one attribute from each of the machine learning data types."
   ]
  },
  {
   "cell_type": "markdown",
   "id": "f1398930",
   "metadata": {},
   "source": [
    "Data Collection: Student Information\n",
    "\n",
    "StudentID\tName\tAge\tGender\tGrade\tHeight (cm)\tTest Score\n",
    "\n",
    "001\tJohn Doe\t17\tMale\t11\t175\t85\n",
    "\n",
    "002\tJane Smith\t16\tFemale\t10\t160\t92\n",
    "\n",
    "003\tDavid Lee\t18\tMale\t12\t180\t78\n",
    "\n",
    "004\tSarah Brown\t15\tFemale\t9\t155\t65\n",
    "\n",
    "Student ID is a discrete quantitative attribute representing the unique identifier for each student. It takes on whole number values.\n",
    "\n",
    "Name is a qualitative attribute representing the names of the students. It is a categorical variable.\n",
    "\n",
    "Age is a discrete quantitative attribute representing the age of the students. It takes on whole number values.\n",
    "\n",
    "Gender is a qualitative attribute representing the gender of the students. It is a categorical variable.\n",
    "\n",
    "Grade is a discrete quantitative attribute representing the grade level of the students. It takes on whole number values.\n",
    "\n",
    "Height (cm) is a continuous quantitative attribute representing the height of the students. It can take on any real number value.\n",
    "\n",
    "Test Score is a continuous quantitative attribute representing the score achieved by the students on a test. It can take on any real number value.\n",
    "\n",
    "This data collection provides a mix of different data types commonly used in machine learning, including discrete and continuous quantitative attributes, as well as qualitative attributes."
   ]
  },
  {
   "cell_type": "markdown",
   "id": "a613f21a",
   "metadata": {},
   "source": [
    "#### 4. What are the various causes of machine learning data issues? What are the ramifications?"
   ]
  },
  {
   "cell_type": "markdown",
   "id": "2d318ca7",
   "metadata": {},
   "source": [
    "There are several causes of data issues in machine learning. Some common causes include:\n",
    "\n",
    "Missing Data: Data may have missing values for certain attributes. This can lead to biased or incomplete analysis and predictions.\n",
    "\n",
    "Outliers: Outliers are extreme values that deviate significantly from the rest of the data. They can skew statistical measures and impact the performance of machine learning models.\n",
    "\n",
    "Imbalanced Data: Imbalanced data occurs when the distribution of classes or categories in the data is not balanced. This can lead to biased predictions and poor performance, especially for minority classes.\n",
    "\n",
    "Noise: Noise refers to random variations or errors in the data. It can arise from measurement errors, data collection issues, or other sources. Noise can affect the accuracy and reliability of machine learning models.\n",
    "\n",
    "Inconsistent Data: Inconsistent data refers to discrepancies or contradictions in the data. It can arise from data integration from multiple sources or human error during data entry. Inconsistent data can lead to unreliable predictions and analysis.\n",
    "\n",
    "The ramifications of data issues in machine learning can be significant. They can result in inaccurate predictions, biased models, and poor decision-making. Data issues can lead to reduced model performance, increased error rates, and unreliable insights. It is crucial to address and mitigate data issues through data preprocessing techniques to ensure the quality and reliability of machine learning models.\n",
    "\n"
   ]
  },
  {
   "cell_type": "markdown",
   "id": "676e965c",
   "metadata": {},
   "source": [
    "#### 5. Demonstrate various approaches to categorical data exploration with appropriate examples."
   ]
  },
  {
   "cell_type": "markdown",
   "id": "a4db0452",
   "metadata": {},
   "source": [
    "Various approaches to categorical data exploration are:\n",
    "\n",
    "Unique value count: One of the first things which can be useful during data exploration is to see how many unique values\n",
    "are there in categorical columns. 2. Frequency Count: Frequency count is finding how frequent individual values occur in column. 3. Variance: Variance gives a good indication how the values are spread. 4. Pareto Analysis: Pareto analysis is a creative way of focusing on what is important. Pareto 80–20 rule can be effectively used in data exploration. 5. Histogram: Histogram are one of the data scientists favourite data exploration techniques. It gives information on the range of values in which most of the values fall. It also gives information on whether there is any skew in data. 6. Correlation Heat-map between all numeric columns: The term correlation refers to a mutual relationship or association between two things. 7. Pearson Correlation and Trend between two numeric columns: Once you have visualised correlation heat-map , the next step is to see the correlation trend between two specific numeric columns. 8. Outlier overview: Finding something unusual in data is called Outlier detection (also known as anomaly detection). These outliers represent something unusual, rare , anomaly or something exceptional."
   ]
  },
  {
   "cell_type": "markdown",
   "id": "8f5b4b66",
   "metadata": {},
   "source": [
    "#### 6. How would the learning activity be affected if certain variables have missing values? Having said that, what can be done about it?"
   ]
  },
  {
   "cell_type": "markdown",
   "id": "07497356",
   "metadata": {},
   "source": [
    "If certain variables have missing values, it can significantly impact the learning activity and the performance of machine learning models. Missing values can lead to biased analysis, incomplete predictions, and inaccurate insights. It is essential to handle missing values appropriately to mitigate these issues.\n",
    "\n",
    "There are several techniques to deal with missing values:\n",
    "\n",
    "Removal: One approach is to remove the records or features with missing values.\n",
    "\n",
    "Imputation: Imputation involves filling in the missing values with estimated or predicted values. This can be done using statistical techniques such as mean, median, or mode imputation, where the missing values are replaced with the respective summary statistics.\n",
    "\n",
    "Flagging: Instead of imputing missing values, a separate indicator variable can be created to indicate whether the value is missing or not.\n",
    "\n",
    "Advanced Techniques: Techniques like k-nearest neighbors (KNN) imputation or matrix factorization can be employed to impute missing values."
   ]
  },
  {
   "cell_type": "markdown",
   "id": "f86a4154",
   "metadata": {},
   "source": [
    "#### 7. Describe the various methods for dealing with missing data values in depth."
   ]
  },
  {
   "cell_type": "markdown",
   "id": "1eab5a88",
   "metadata": {},
   "source": [
    "The Various Methods for dealing with missing data values are:\n",
    "\n",
    "Delete the observations: If there is a large number of observations in the dataset, where all the classes to be predicted are sufficiently represented in the training data, then try deleting the missing value observations, which would not bring significant change in your feed to your model. For Example Implement this method in a given dataset, we can delete the entire row which contains missing values\n",
    ".\n",
    "Replace missing values with the most frequent value: You can always impute them based on Mode in the case of categorical variables, just make sure you don’t have highly skewed class distributions.\n",
    "\n",
    "Develop a model to predict missing values: One smart way of doing this could be training a classifier over your columns with missing values as a dependent variable against other features of your data set and trying to impute based on the newly trained classifier."
   ]
  },
  {
   "cell_type": "markdown",
   "id": "742501c5",
   "metadata": {},
   "source": [
    "#### 8. What are the various data pre-processing techniques? Explain dimensionality reduction and function selection in a few words."
   ]
  },
  {
   "cell_type": "markdown",
   "id": "ed9ffc4f",
   "metadata": {},
   "source": [
    "Data Cleaning: This involves handling missing values, dealing with outliers, and correcting any inconsistencies or errors in the data.\n",
    "\n",
    "Data Transformation: This includes scaling or normalizing the data to ensure that all features are on a similar scale.\n",
    "\n",
    "Feature Selection: Feature selection is the process of selecting a subset of relevant features from the original set of features. \n",
    "\n",
    "\n",
    "Data Encoding: Categorical variables are often encoded into numerical representations for better compatibility with machine learning algorithms. This can include techniques like one-hot encoding, label encoding, or ordinal encoding.\n",
    "\n",
    "Data Splitting: Data is typically split into training, validation, and testing sets. \n",
    "\n",
    "Dimensionality Reduction: Dimensionality reduction techniques are used to reduce the number of features in a dataset while retaining the most relevant information. By reducing the dimensionality, we can eliminate redundant or irrelevant features, simplify the model, and avoid overfitting. This can be achieved through techniques like PCA, which transforms the data into a lower-dimensional space by identifying the principal components that capture the most significant variability in the data.\n",
    "\n",
    "Feature Selection: Feature selection is the process of selecting a subset of relevant features from the original set of features. It aims to identify the most informative and discriminative features that contribute the most to the target variable. Feature selection helps to improve model performance, reduce complexity, and enhance interpretability. Techniques for feature selection include filter methods (based on statistical measures), wrapper methods (using a specific machine learning algorithm to evaluate feature subsets), and embedded methods (where feature selection is integrated into the model training process).\n"
   ]
  },
  {
   "cell_type": "markdown",
   "id": "ddde75b0",
   "metadata": {},
   "source": [
    "#### 9.i. What is the IQR? What criteria are used to assess it? ii. Describe the various components of a box plot in detail? When will the lower whisker surpass the upper whisker in length? How can box plots be used to identify outliers?"
   ]
  },
  {
   "cell_type": "markdown",
   "id": "4c0620c1",
   "metadata": {},
   "source": [
    "What is the IQR? What criteria are used to assess it?\n",
    "\n",
    "Q1 is the first quartile of the data, i.e., to say 25% of the data lies between minimum and Q1.\n",
    "\n",
    "Q3 is the third quartile of the data, i.e., to say 75% of the data lies between minimum and Q3.\n",
    "\n",
    "The difference between Q3 and Q1 is called the Inter-Quartile Range or IQR.\n",
    "\n",
    "Describe the various components of a box plot in detail? When will the lower whisker surpass the upper whisker in length? How can box plots be used to identify outliers?\n",
    "\n",
    "minimum is the minimum value in the dataset\n",
    "maximum is the maximum value in the dataset.\n",
    "So the difference between the two tells us about the range of dataset.\n",
    "The median is the median (or centre point), also called second quartile, of the data (resulting from the fact that the data is ordered).\n",
    "Q1 is the first quartile of the data, i.e., to say 25% of the data lies between minimum and Q1.\n",
    "Q3 is the third quartile of the data, i.e., to say 75%\n",
    "When the data is left skewed, lower whisker will be longer than upper whisker.\n",
    "To detect the outliers this method is used, we define a new range, let’s call it decision range, and any data point lying outside this range is considered as outlier and is accordingly dealt with. The range is as given below:\n",
    "Lower Bound: (Q1 - 1.5 * IQR)Upper Bound: (Q3 + 1.5 * IQR)\n",
    "\n",
    "The difference between Q3 and Q1 is called the Inter-Quartile Range or IQR."
   ]
  },
  {
   "cell_type": "markdown",
   "id": "a8c60fa6",
   "metadata": {},
   "source": [
    "#### 10. Make brief notes on any two of the following:\n",
    "\n",
    "1. Data collected at regular intervals\n",
    "\n",
    "2. The gap between the quartiles\n",
    "\n",
    "3. Use a cross-tab\n"
   ]
  },
  {
   "cell_type": "markdown",
   "id": "df79722e",
   "metadata": {},
   "source": [
    "Data collected at regular intervals:\n",
    "\n",
    "Interval data is one of the two types of discrete data.\n",
    "An example of interval data is the data collected on a thermometer—its gradation or markings are equidistant.\n",
    "Unlike ordinal data, interval data always take numerical values where the distance between two points on the scale is standardised and equal.\n",
    "The gap between the quartiles:\n",
    "\n",
    "Q1 is the first quartile of the data, i.e., to say 25% of the data lies between minimum and Q1.\n",
    "Q3 is the third quartile of the data, i.e., to say 75% of the data lies between minimum and Q3.\n",
    "The difference between Q3 and Q1 is called the Inter-Quartile Range or IQR."
   ]
  },
  {
   "cell_type": "markdown",
   "id": "be7f22eb",
   "metadata": {},
   "source": [
    "#### 11. Make a comparison between:\n",
    "\n",
    "1. Data with nominal and ordinal values\n",
    "\n",
    "2. Histogram and box plot\n",
    "\n",
    "3. The average and median"
   ]
  },
  {
   "cell_type": "markdown",
   "id": "0df9ab53",
   "metadata": {},
   "source": [
    " The following are the breif notes about:\n",
    "\n",
    "The average and median:\n",
    "\n",
    "The mean (informally, the “average“) is found by adding all of the numbers together and dividing by the number of items in the set: 10 + 10 + 20 + 40 + 70 / 5 = 30. The median is found by ordering the set from lowest to highest and finding the exact middle. The median is just the middle number: 20\n",
    "Histogram and barplot:\n",
    "\n",
    "Histograms and box plots are very similar in that they both help to visualize and describe numeric data. Although histograms are better in determining the underlying distribution of the data, box plots allow you to compare multiple data sets better than histograms as they are less detailed and take up less space."
   ]
  },
  {
   "cell_type": "code",
   "execution_count": null,
   "id": "fc8d3b83",
   "metadata": {},
   "outputs": [],
   "source": []
  }
 ],
 "metadata": {
  "kernelspec": {
   "display_name": "Python 3 (ipykernel)",
   "language": "python",
   "name": "python3"
  },
  "language_info": {
   "codemirror_mode": {
    "name": "ipython",
    "version": 3
   },
   "file_extension": ".py",
   "mimetype": "text/x-python",
   "name": "python",
   "nbconvert_exporter": "python",
   "pygments_lexer": "ipython3",
   "version": "3.9.12"
  }
 },
 "nbformat": 4,
 "nbformat_minor": 5
}
