{
 "cells": [
  {
   "cell_type": "markdown",
   "id": "728cb24a",
   "metadata": {},
   "source": [
    "#### 1.\tDefine the Bayesian interpretation of probability.\n",
    "Ans:\n",
    "    The Bayesian interpretation of probability is a philosophical viewpoint and approach to understanding probability that is based on the principles of Bayesian inference. It is named after Thomas Bayes, an 18th-century mathematician and theologian who developed the fundamental ideas behind Bayesian probability.\n",
    "\n",
    "In the Bayesian interpretation, probability is viewed as a measure of the degree of belief or confidence in the truth of a particular event or proposition. Instead of treating probability as an objective property of events or a frequency-based concept, Bayesian probability considers it as a subjective assessment that can be updated based on new evidence or information.\n",
    "\n",
    "Bayesian probability is expressed as a degree of belief or a subjective probability, often represented as a number between 0 and 1. A probability of 0 represents complete disbelief or impossibility, while a probability of 1 represents complete certainty or inevitability. Probabilities between 0 and 1 reflect degrees of uncertainty and confidence."
   ]
  },
  {
   "cell_type": "markdown",
   "id": "86330fd1",
   "metadata": {},
   "source": [
    "#### 2.\tDefine probability of a union of two events with equation.\n",
    "Ans:\n",
    "    The probability of the union of two events, Like- \n",
    "    \n",
    " P(A ∪ B) = P(A) + P(B) - P(A ∩ B)\n",
    "\n",
    "In this equation, P(A) represents the probability of event A occurring, P(B) represents the probability of event B occurring, and P(A ∩ B) represents the probability of both events A and B occurring simultaneously (the intersection of events A and B). The reason we subtract P(A ∩ B) from the sum of P(A) and P(B) is to avoid double-counting the probability of the intersection. By subtracting the probability of the intersection, we ensure that we only count it once in the overall probability calculation.\n",
    "This equation holds true for both independent and dependent events. In the case of independent events, where the occurrence of one event does not affect the probability of the other event, the equation simplifies to:\n",
    "\n",
    "P(A ∪ B) = P(A) + P(B) - P(A) * P(B)\n",
    "\n"
   ]
  },
  {
   "cell_type": "markdown",
   "id": "51cfeb71",
   "metadata": {},
   "source": [
    "#### 3.\tWhat is joint probability? What is its formula?\n",
    "Ans: \n",
    "\n",
    "Joint probability refers to the probability of two or more events occurring simultaneously or together. It is a measure of the likelihood that multiple events happen at the same time.\n",
    "\n",
    "Formulas are like - \n",
    "If events A and B are independent, meaning that the occurrence of one event does not affect the probability of the other event, the formula for joint probability is simply the product of their individual probabilities:\n",
    "\n",
    "P(A and B) = P(A) * P(B)\n",
    "\n",
    "This formula applies when events A and B are statistically independent, and knowing the outcome of one event does not provide any information about the other event.\n",
    "\n",
    "If events A and B are dependent, meaning that the occurrence of one event affects the probability of the other event, the joint probability is calculated using the conditional probability:\n",
    "\n",
    "P(A and B) = P(A | B) * P(B)\n",
    "\n",
    "Here, P(A | B) denotes the conditional probability of event A given that event B has occurred. In this case, the joint probability takes into account the probability of event B occurring and the probability of event A occurring given that event B has occurred."
   ]
  },
  {
   "cell_type": "markdown",
   "id": "2b289bf6",
   "metadata": {},
   "source": [
    "# 4.\tWhat is chain rule of probability?\n",
    "Ans:\n",
    "    The chain rule of probability, also known as the multiplication rule, is a fundamental rule in probability theory that allows us to calculate the probability of the joint occurrence of multiple events. It states that the joint probability of a set of events can be calculated by successively multiplying the conditional probabilities of each event given the previous events.\n",
    "  Mathematically, the chain rule of probability can be expressed as :\n",
    "\n",
    "P(A₁, A₂, ..., Aₙ) = P(A₁) * P(A₂ | A₁) * P(A₃ | A₁, A₂) * ... * P(Aₙ | A₁, A₂, ..., Aₙ₋₁)\n",
    "\n",
    "In this formula, P(A₁, A₂, ..., Aₙ) represents the joint probability of events A₁, A₂, ..., Aₙ occurring simultaneously. The probability of each event is multiplied by the conditional probability of the subsequent event given the previous events."
   ]
  },
  {
   "cell_type": "markdown",
   "id": "a2996cfb",
   "metadata": {},
   "source": [
    "#### 5.\tWhat is conditional probability means? What is the formula of it?\n",
    "Ans:\n",
    "Conditional probability is a measure of the probability of an event occurring given that another event has already occurred or is known to have occurred. It quantifies the likelihood of an event under a specific condition.\n",
    "\n",
    "the conditional probability of event A occurring given event B is denoted as P(A | B), read as \"the probability of A given B.\" The formula for conditional probability is:\n",
    "\n",
    "P(A | B) = P(A and B) / P(B)\n",
    "\n",
    "In this formula, P(A and B) represents the joint probability of events A and B occurring together, and P(B) represents the probability of event B occurring.\n",
    "    "
   ]
  },
  {
   "cell_type": "markdown",
   "id": "90181e3c",
   "metadata": {},
   "source": [
    "#### 6.\tWhat are continuous random variables?\n",
    "Ans: \n",
    "    Continuous random variables are variables that can take on any value within a specified range or interval. Unlike discrete random variables, which can only assume specific, separate values, continuous random variables can take on an infinite number of possible values within a given range.\n",
    "\n",
    "The values of continuous random variables are typically associated with measurements or quantities that can vary continuously, such as time, length, weight, temperature, and so on. Examples of continuous random variables include the height of individuals, the temperature of a room, or the time it takes for a process to complete.\n",
    "\n",
    "The probability distribution of a continuous random variable is described by a probability density function (PDF). Unlike a probability mass function (PMF) used for discrete random variables, the PDF represents the likelihood of the variable assuming a specific value or falling within a certain interval."
   ]
  },
  {
   "cell_type": "markdown",
   "id": "1938e130",
   "metadata": {},
   "source": [
    "#### 7.\tWhat are Bernoulli distributions? What is the formula of it?\n",
    "Ans: \n",
    "    The Bernoulli distribution is characterized by a single parameter, usually denoted as \"p,\" which represents the probability of success. The probability of failure is given by 1 - p. The random variable X following a Bernoulli distribution takes the value 1 with probability p (success) and the value 0 with probability 1 - p (failure).\n",
    "    \n",
    "   Formula is \n",
    "    \n",
    "   P(X = k) = p^k * (1 - p)^(1 - k)\n",
    "\n",
    "where k is either 0 or 1, representing the possible outcomes of the random variable X."
   ]
  },
  {
   "cell_type": "markdown",
   "id": "1f3c4cf0",
   "metadata": {},
   "source": [
    "#### 8.\tWhat is binomial distribution? What is the formula?\n",
    "Ans:\n",
    "    The binomial distribution is a discrete probability distribution that models the number of successes in a fixed number of independent Bernoulli trials. It is widely used in statistics and probability theory to analyze situations where a binary outcome (success or failure) is repeated a specific number of times. The binomial distribution is characterized by two parameters: n and p. The parameter n represents the number of trials or observations, and the parameter p represents the probability of success in each trial.\n",
    "    \n",
    "   The formula for the PMF of the binomial distribution is:\n",
    "\n",
    "P(X = k) = (n choose k) * p^k * (1 - p)^(n - k)\n",
    "\n",
    "where X is the random variable following the binomial distribution, k is the number of successes, n is the total number of trials, p is the probability of success in each trial, and (n choose k) represents the binomial coefficient, which is the number of ways to choose k successes out of n trials and is calculated as:\n",
    "\n",
    "(n choose k) = n! / (k! * (n - k)!)\n",
    "\n",
    "In this formula, the exclamation mark denotes the factorial operation.\n",
    "    \n",
    "    "
   ]
  },
  {
   "cell_type": "markdown",
   "id": "bfeb907c",
   "metadata": {},
   "source": [
    "#### 9.\tWhat is Poisson distribution? What is the formula?\n",
    "Ans: \n",
    "    The Poisson distribution is a discrete probability distribution that models the number of events occurring in a fixed interval of time or space when the events are rare and independent of each other.\n",
    "    \n",
    "   The formula for the Poisson distribution is:\n",
    "\n",
    "P(X = k) = (e^(-λ) * λ^k) / k!\n",
    "\n",
    "where X is the random variable following the Poisson distribution, k is the number of events, λ is the average rate of events, and e is Euler's number (approximately 2.71828). k! denotes the factorial of k.\n",
    "\n",
    "In this formula, each term in the numerator represents the probability of observing k events, while e^(-λ) serves as a normalization factor."
   ]
  },
  {
   "cell_type": "markdown",
   "id": "1051d8a6",
   "metadata": {},
   "source": [
    "#### 10.\tDefine covariance.\n",
    "Ans: \n",
    "    Covariance is a statistical measure that quantifies the relationship and extent of linear association between two random variables. It indicates how changes in one variable are associated with changes in another variable. In particular, it measures the direction and strength of the linear relationship between the variables.\n",
    "\n",
    "The covariance between two random variables, X and Y, is denoted as Cov(X, Y). It is calculated as the average of the product of the deviations of each variable from their respective means. Mathematically, the formula for covariance is:\n",
    "\n",
    "Cov(X, Y) = Σ[(Xᵢ - μₓ)(Yᵢ - μᵧ)] / N\n",
    "\n",
    "where Xᵢ and Yᵢ represent the individual observations of X and Y, respectively, μₓ and μᵧ are the means of X and Y, Σ denotes the sum over all observations, and N represents the total number of observations."
   ]
  },
  {
   "cell_type": "markdown",
   "id": "f2130e7e",
   "metadata": {},
   "source": [
    "#### 11.\tDefine correlation\n",
    "Ans:\n",
    "Correlation is a statistical measure that quantifies the strength and direction of the linear relationship between two random variables. It assesses how changes in one variable are associated with changes in another variable. Unlike covariance, which is not standardized, correlation provides a normalized measure of the linear relationship between variables.\n",
    "\n",
    "The correlation coefficient, denoted as r, is used to express the degree of correlation between two variables, X and Y. The correlation coefficient ranges between -1 and 1, where:\n",
    "\n",
    "A correlation coefficient of +1 indicates a perfect positive correlation, meaning that as one variable increases, the other variable increases proportionally in a linear fashion.\n",
    "A correlation coefficient of -1 indicates a perfect negative correlation, meaning that as one variable increases, the other variable decreases proportionally in a linear fashion.\n",
    "A correlation coefficient of 0 indicates no linear correlation between the variables. It does not necessarily mean there is no relationship at all, as there could still be a non-linear association.\n",
    "\n",
    "The correlation coefficient is calculated using the following formula:\n",
    "\n",
    "r = Cov(X, Y) / (σₓ * σᵧ)\n",
    "\n",
    "where Cov(X, Y) is the covariance between X and Y, and σₓ and σᵧ represent the standard deviations of X and Y, respectively.\n",
    "    "
   ]
  },
  {
   "cell_type": "markdown",
   "id": "9ac218a4",
   "metadata": {},
   "source": [
    "#### 12.\tDefine sampling with replacement. Give example.\n",
    "Ans:\n",
    "    Sampling with replacement is a sampling method in statistics where, after selecting an item from a population, it is returned back to the population before the next item is selected. In other words, each item has an equal chance of being selected at each draw, regardless of whether it has been previously selected.\n",
    "\n",
    "Here's an example to illustrate sampling with replacement:\n",
    "\n",
    "Suppose you have a bag containing 10 balls labeled from 1 to 10. You want to randomly select three balls from the bag using sampling with replacement. \n",
    "\n",
    "Randomly select a ball from the bag. Let's say you select ball number 5. Record the number and put the ball back into the bag.\n",
    "Randomly select a ball again. It is possible to select the same ball (ball number 5) as before, as each ball has an equal chance of being chosen. Let's say you select ball number 2 this time. Record the number and put the ball back into the bag."
   ]
  },
  {
   "cell_type": "markdown",
   "id": "7069b330",
   "metadata": {},
   "source": [
    "#### 13.\tWhat is sampling without replacement? Give example.\n",
    "Ans:\n",
    "Sampling without replacement is a sampling method in statistics where, after selecting an item from a population, it is not returned back to the population before the next item is selected. In other words, each item can be selected only once in the sample, and the probability of selecting each subsequent item changes as the sampling progresses.\n",
    "\n",
    "Here's an example to illustrate sampling without replacement:\n",
    "\n",
    "Suppose you have a deck of 52 playing cards. You want to randomly select three cards from the deck using sampling without replacement. The process would be as follows:\n",
    "\n",
    "Randomly select a card from the deck. Let's say you draw the Ace of Spades. Remove the card from the deck.\n",
    "Randomly select another card from the remaining 51 cards. You cannot select the Ace of Spades again since it was already removed. Let's say you draw the Queen of Hearts. Remove the card from the deck.\n",
    "    "
   ]
  },
  {
   "cell_type": "markdown",
   "id": "8435fdfe",
   "metadata": {},
   "source": [
    "#### 14.\tWhat is hypothesis? Give example.\n",
    "Ans: \n",
    "In statistics and research methodology, a hypothesis is a proposed explanation or claim about a population or phenomenon. It is a statement that suggests a relationship or difference between variables or predicts an outcome based on available evidence or prior knowledge.\n",
    "\n",
    "A hypothesis typically consists of two components:\n",
    "\n",
    "Null Hypothesis (H₀): This is the default or initial assumption that there is no significant relationship or difference between variables. It represents the absence of an effect or a null effect. It is often denoted as H₀.\n",
    "\n",
    "Alternative Hypothesis (H₁ or Ha): This is the opposite of the null hypothesis. It suggests that there is a relationship, difference, or effect between variables. \n",
    "\n",
    "\n",
    "Here's an example of hypothesis:\n",
    "\n",
    "Suppose a researcher wants to investigate whether a new educational intervention improves students' test scores. They might propose the following hypothesis:\n",
    "\n",
    "Null Hypothesis (H₀): The new educational intervention has no effect on students' test scores.\n",
    "\n",
    "Alternative Hypothesis (H₁): The new educational intervention improves students' test scores.\n",
    "\n",
    "In this example, the null hypothesis states that the intervention has no effect, while the alternative hypothesis suggests that it does have a positive effect. The researcher would then design a study, collect data, and analyze it to either support or reject the null hypothesis in favor of the alternative hypothesis.\n",
    "    "
   ]
  },
  {
   "cell_type": "code",
   "execution_count": null,
   "id": "ec9c52aa",
   "metadata": {},
   "outputs": [],
   "source": []
  }
 ],
 "metadata": {
  "kernelspec": {
   "display_name": "Python 3 (ipykernel)",
   "language": "python",
   "name": "python3"
  },
  "language_info": {
   "codemirror_mode": {
    "name": "ipython",
    "version": 3
   },
   "file_extension": ".py",
   "mimetype": "text/x-python",
   "name": "python",
   "nbconvert_exporter": "python",
   "pygments_lexer": "ipython3",
   "version": "3.10.9"
  }
 },
 "nbformat": 4,
 "nbformat_minor": 5
}
